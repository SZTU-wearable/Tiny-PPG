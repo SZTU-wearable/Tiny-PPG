{
 "cells": [
  {
   "cell_type": "code",
   "execution_count": 8,
   "metadata": {},
   "outputs": [],
   "source": [
    "import numpy as np\n",
    "# from utils import *\n",
    "from tqdm import tqdm\n",
    "import matplotlib.pyplot as plt\n",
    "import torch.nn.functional as F\n",
    "import sys\n",
    "import sklearn\n",
    "import torch\n",
    "from scipy.signal import find_peaks\n",
    "from multiprocessing import Pool\n",
    "from torch import nn\n",
    "from matplotlib import rcParams\n",
    "import matplotlib\n",
    "from model import Model\n",
    "config = {\"font.family\":'Times New Roman', # 设置字体类型\"font.size\": 15,\n",
    "#     \"mathtext.fontset\":'stix',\n",
    "}\n",
    "rcParams.update(config)"
   ]
  },
  {
   "cell_type": "code",
   "execution_count": 2,
   "metadata": {},
   "outputs": [],
   "source": [
    "model = Model()\n",
    "test_x = np.load('data/X_test.npy')\n",
    "ppg_signal = test_x\n",
    "test_x = test_x.reshape((test_x.shape[0], 1, test_x.shape[1]))\n",
    "test_x = torch.FloatTensor(test_x)\n",
    "\n",
    "test_y = np.load('data/y_seg_test.npy')\n",
    "\n",
    "model.load_state_dict(torch.load('Save_Model/model_parameter-2023-5-31-1.pkl'))\n",
    "model.cpu()"
   ]
  },
  {
   "cell_type": "code",
   "execution_count": null,
   "metadata": {},
   "outputs": [],
   "source": [
    "val_outputs = model(test_x)['seg']\n",
    "val_outputs = np.array(val_outputs.detach().numpy()).astype(np.int8)\n",
    "val_outputs[val_outputs <= 0.5] = 0\n",
    "val_outputs[val_outputs > 0.5] = 1\n",
    "\n",
    "y_seg_model = val_outputs\n",
    "\n",
    "val_outputs = val_outputs.flatten() \n",
    "val_y = np.array(test_y.flatten()).astype(np.int8)\n",
    "intersection = np.sum(val_outputs * val_y)\n",
    "smooth = 0.00001\n",
    "dice = (2. * intersection + smooth) / (np.sum(val_y) + np.sum(val_outputs) + smooth)\n",
    "print(dice)"
   ]
  },
  {
   "cell_type": "code",
   "execution_count": 4,
   "metadata": {},
   "outputs": [],
   "source": [
    "def calc_dice(y_true_flat, y_pred_flat):\n",
    "    intersection = np.sum(y_pred_flat * y_true_flat)\n",
    "    smooth = 0.00001\n",
    "    dice = (2. * intersection + smooth) / (np.sum(y_true_flat) + np.sum(y_pred_flat) + smooth)\n",
    "    return dice"
   ]
  },
  {
   "cell_type": "code",
   "execution_count": 5,
   "metadata": {},
   "outputs": [],
   "source": [
    "def get_edges(label):\n",
    "    label = label.flatten()\n",
    "    ref = label[1:] - label[:-1]\n",
    "    base = np.zeros_like(label)\n",
    "    base[np.where(ref == 1)[0]+1] = 1\n",
    "    base[np.where(ref == -1)[0]] = 1\n",
    "    if label[0] == 1:\n",
    "        base[0] = 1\n",
    "    if label[-1] == 1:\n",
    "        base[-1] = 1\n",
    "\n",
    "    cp_prev = np.concatenate((np.asarray([0]), label[:-1]))\n",
    "    cp_next = np.concatenate((label[1:], np.asarray([0])))\n",
    "\n",
    "    cp = cp_prev + cp_next\n",
    "    cp_base = label - cp\n",
    "\n",
    "    cp_base[cp_base != 1] = 0\n",
    "    base[cp_base == 1] = 0\n",
    "\n",
    "    edges = np.where(base == 1)[0]\n",
    "\n",
    "    edges = edges.reshape((edges.shape[0] // 2, 2))\n",
    "\n",
    "    for i in np.where(cp_base == 1)[0]:\n",
    "        edges = np.concatenate((np.asarray([[i, i]]), edges), axis=0)\n",
    "\n",
    "    return edges"
   ]
  },
  {
   "cell_type": "code",
   "execution_count": 6,
   "metadata": {},
   "outputs": [],
   "source": [
    "def plot_on_ax(ppg, label, ax, title='', color='g', overlay=False, label2=None, color2='y'):\n",
    "    ax.margins(x=0, y=0)\n",
    "    ax.plot(ppg)\n",
    "    edges = get_edges(label)\n",
    "    if len(edges) > 0:\n",
    "        for edge in edges:\n",
    "            s, e = edge\n",
    "            if s == e:\n",
    "                ax.axvline(x=s, color=color, alpha=0.5)\n",
    "            else:\n",
    "                ax.axvspan(xmin=s, xmax=e, facecolor=color, alpha=0.5)\n",
    "    if overlay:\n",
    "        edges2 = get_edges(label2)\n",
    "        if len(edges2) > 0:\n",
    "            for edge in edges2:\n",
    "                s, e = edge\n",
    "                if s == e:\n",
    "                    ax.axvline(x=s, color=color2, alpha=0.5)\n",
    "                else:\n",
    "                    ax.axvspan(xmin=s, xmax=e, facecolor=color2, alpha=0.5)\n",
    "    ax.set_title(title,fontsize=32)\n",
    "    ax.tick_params(axis=\"x\", labelsize=28)\n",
    "    ax.tick_params(axis=\"y\", labelsize=28)\n",
    "  \n"
   ]
  },
  {
   "cell_type": "code",
   "execution_count": 1,
   "metadata": {},
   "outputs": [],
   "source": [
    "idx=58\n",
    "TESTSET_NAME = '可视化效果'\n",
    "ppg = ppg_signal[idx]\n",
    "\n",
    "\n",
    "y_seg_true = test_y\n",
    "\n",
    "fig, (ax1,ax2), = plt.subplots(nrows=2, ncols=1, figsize=(28, 4))  #nrows修改图例数目\n",
    "plot_on_ax(ppg, y_seg_true[idx], title='PPG Signal', overlay=False, ax=ax1)\n",
    "plot_on_ax(ppg,y_seg_model[idx],\n",
    "        title='Model' + ' DICE: {}'.format(round(calc_dice(y_seg_true[idx], y_seg_model[idx]), 4)),\n",
    "        overlay=False, ax=ax2)\n",
    "plt.xticks(fontsize=24)\n",
    "plt.yticks(fontsize=24)\n",
    "plt.tight_layout()\n"
   ]
  }
 ],
 "metadata": {
  "kernelspec": {
   "display_name": "Python 3.7.2 ('tf')",
   "language": "python",
   "name": "python3"
  },
  "language_info": {
   "codemirror_mode": {
    "name": "ipython",
    "version": 3
   },
   "file_extension": ".py",
   "mimetype": "text/x-python",
   "name": "python",
   "nbconvert_exporter": "python",
   "pygments_lexer": "ipython3",
   "version": "3.7.2"
  },
  "orig_nbformat": 4,
  "vscode": {
   "interpreter": {
    "hash": "c5e3f05dc0ebefd0d8a695c10213073c91a992d6c2b23d1c7974e41814b13da9"
   }
  }
 },
 "nbformat": 4,
 "nbformat_minor": 2
}
