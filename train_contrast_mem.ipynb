{
 "cells": [
  {
   "cell_type": "code",
   "execution_count": null,
   "metadata": {},
   "outputs": [],
   "source": [
    "import torch\n",
    "import torch.nn.functional as F\n",
    "import matplotlib.pyplot as plt\n",
    "from torch import nn\n",
    "from einops import rearrange, reduce, repeat\n",
    "from einops.layers.torch import Rearrange, Reduce\n",
    "from torchsummary import summary\n",
    "import pandas as pd\n",
    "import numpy as np\n",
    "import os\n",
    "import matplotlib.pyplot as plt\n",
    "from sklearn.model_selection import KFold\n",
    "from Contrast_loss_mem import ContrastLoss\n",
    "from model import Model\n",
    "os.environ[\"CUDA_VISIBLE_DEVICES\"]=\"0\"\n",
    "os.environ['CUDA_LAUNCH_BLOCKING'] = '0'\n",
    "device = torch.device(\"cuda\")"
   ]
  },
  {
   "cell_type": "code",
   "execution_count": null,
   "metadata": {},
   "outputs": [
    {
     "data": {
      "text/plain": [
       "'1.9.0+cu102'"
      ]
     },
     "execution_count": 2,
     "metadata": {},
     "output_type": "execute_result"
    }
   ],
   "source": [
    "torch.__version__"
   ]
  },
  {
   "cell_type": "code",
   "execution_count": null,
   "metadata": {},
   "outputs": [],
   "source": [
    "model = Model()"
   ]
  },
  {
   "cell_type": "code",
   "execution_count": null,
   "metadata": {},
   "outputs": [],
   "source": [
    "def AC_loss(y_true, y_pred):\n",
    "\n",
    "    x = y_pred[:, :, 1:] - y_pred[:, : , :-1]\n",
    "    delta_x = x[:, :, :-2] ** 2\n",
    "\n",
    "    length = torch.mean(torch.sqrt(delta_x + 1e-6), axis=2)\n",
    "\n",
    "\n",
    "    c1 = torch.ones_like(y_true)\n",
    "    c2 = torch.zeros_like(y_true)\n",
    "    region_in = torch.abs(torch.mean(y_pred * ((y_true - c1) ** 2), axis=2))\n",
    "\n",
    "    region_out = torch.abs(torch.mean((1 - y_pred) * ((y_true - c2) ** 2), axis=2))\n",
    "\n",
    "\n",
    "    return 6 * length + (region_in + region_out)\n",
    "\n",
    "\n",
    "def dice_metric(y_true, y_pred):\n",
    "    intersection = torch.sum(y_pred * y_true)\n",
    "    smooth = 0.0000001\n",
    "    dice = (2. * intersection + smooth) / (torch.sum(y_true) + torch.sum(y_pred) + smooth)\n",
    "    return dice\n",
    "\n",
    "CE_loss = nn.BCELoss()\n",
    "contrast_criterion = ContrastLoss()\n"
   ]
  },
  {
   "cell_type": "code",
   "execution_count": null,
   "metadata": {},
   "outputs": [],
   "source": [
    "X_train = np.load('data/X_train.npy')\n",
    "X_val = np.load('data/X_val.npy')\n",
    "y_seg_train = np.load('data/y_seg_train.npy')\n",
    "y_seg_val = np.load('data/y_seg_val.npy')\n",
    "\n",
    "X_train = X_train.reshape((X_train.shape[0], 1 ,  X_train.shape[1]))\n",
    "X_val = X_val.reshape((X_val.shape[0], 1, X_val.shape[1]))\n",
    "y_seg_train = y_seg_train.reshape((y_seg_train.shape[0], 1, y_seg_train.shape[1]))\n",
    "y_seg_val = y_seg_val.reshape((y_seg_val.shape[0], 1 ,  y_seg_val.shape[1]))\n",
    "\n"
   ]
  },
  {
   "cell_type": "code",
   "execution_count": null,
   "metadata": {},
   "outputs": [],
   "source": [
    "X_train = torch.FloatTensor(X_train)\n",
    "X_val = torch.FloatTensor(X_val)\n",
    "y_seg_train = torch.FloatTensor(y_seg_train)\n",
    "y_seg_val = torch.FloatTensor(y_seg_val)"
   ]
  },
  {
   "cell_type": "code",
   "execution_count": null,
   "metadata": {},
   "outputs": [],
   "source": [
    "def _dequeue_and_enqueue(keys, labels,\n",
    "                             pixel_queue, pixel_queue_ptr):\n",
    "        batch_size = keys.shape[0]\n",
    "        feat_dim = keys.shape[1]\n",
    "        labels = labels + 1\n",
    "        keys = keys + 1\n",
    "\n",
    "\n",
    "        for bs in range(batch_size):\n",
    "            this_feat = keys[bs].contiguous().view(feat_dim, -1)\n",
    "            this_label = labels[bs].contiguous().view(-1)\n",
    "            this_label_ids = torch.unique(this_label)\n",
    "            this_label_ids = [x for x in this_label_ids if x > 0]\n",
    "\n",
    "            for lb in this_label_ids:\n",
    "                idxs = (this_label == lb).nonzero()\n",
    "\n",
    "\n",
    "                num_pixel = idxs.shape[0]\n",
    "                perm = torch.randperm(num_pixel)\n",
    "                K = min(num_pixel, self.pixel_update_freq)\n",
    "                feat = this_feat[:, perm[:K]]\n",
    "                feat = torch.transpose(feat, 0, 1)\n",
    "                ptr = int(pixel_queue_ptr[lb])\n",
    "\n",
    "                if ptr + K >= 1000:\n",
    "                    pixel_queue[lb, -K:, :] = nn.functional.normalize(feat, p=2, dim=1)\n",
    "                    pixel_queue_ptr[lb] = 0\n",
    "                else:\n",
    "                    pixel_queue[lb, ptr:ptr + K, :] = nn.functional.normalize(feat, p=2, dim=1)\n",
    "                    pixel_queue_ptr[lb] = (pixel_queue_ptr[lb] + 1) % 1000\n",
    "        return pixel_queue,pixel_queue_ptr\n",
    "\n",
    "pixel_queue = torch.zeros([2,5000,128])\n",
    "pixel_queue_ptr = torch.zeros([2])"
   ]
  },
  {
   "cell_type": "code",
   "execution_count": 7,
   "metadata": {},
   "outputs": [],
   "source": [
    "import torch.utils.data as Data\n",
    "train_data = Data.TensorDataset(X_train,y_seg_train)\n",
    "train_loader = Data.DataLoader(\n",
    "    dataset=train_data,\n",
    "    batch_size=64,\n",
    "    shuffle=True,\n",
    ")\n",
    "\n",
    "\n",
    "val_data = Data.TensorDataset(X_val,y_seg_val)\n",
    "val_loader = Data.DataLoader(\n",
    "    dataset=val_data,\n",
    "    batch_size=64,\n",
    "    shuffle=True,\n",
    ")"
   ]
  },
  {
   "cell_type": "code",
   "execution_count": 8,
   "metadata": {},
   "outputs": [],
   "source": [
    "import torch.optim as optim\n",
    "from torch.optim.lr_scheduler import StepLR\n",
    "optimizer = optim.Adam(\n",
    "    model.parameters(),\n",
    "    lr=0.0005,\n",
    ")\n"
   ]
  },
  {
   "cell_type": "code",
   "execution_count": 9,
   "metadata": {},
   "outputs": [],
   "source": [
    "import math\n",
    "bacth_len = math.ceil(X_train.shape[0]/64)\n",
    "\n",
    "best_valid_dice = 0\n",
    "model = model.to(device)\n",
    "\n",
    "\n",
    "for epoch in range(5000):\n",
    "    running_loss = 0.0\n",
    "    model.train()\n",
    "    for batch_idx, data in enumerate(train_loader, start=0):\n",
    "        x, labels = data \n",
    "        x = x.to(device)\n",
    "        labels = labels.to(device)\n",
    "        optimizer.zero_grad()                     \n",
    "        outputs , proj_feature = model(x)['seg'] , model(x)['embed']  \n",
    "   \n",
    "\n",
    "        preds = outputs.clone()\n",
    "        preds[preds <= 0.5] = 0\n",
    "        preds[preds > 0.5] = 1\n",
    "        \n",
    "        pixel_queue,pixel_queue_ptr = _dequeue_and_enqueue(outputs,labels,pixel_queue,pixel_queue_ptr)\n",
    "\n",
    "\n",
    "        # loss = CE_loss(outputs, labels)+0.1*contrast_criterion(proj_feature,labels,preds,pixel_queue)  \n",
    "        loss = torch.mean(AC_loss(labels, outputs))+ 0.1*contrast_criterion(proj_feature,labels,preds,pixel_queue)  \n",
    "  \n",
    "        # loss.backward(loss.clone().detach())    \n",
    "        loss.backward()                           \n",
    "        optimizer.step()                          \n",
    "        running_loss += torch.mean(loss).item()\n",
    "\n",
    "    model.eval()\n",
    "    with torch.no_grad():\n",
    "          val_x = X_val.cuda()\n",
    "          val_outputs = model(val_x)['seg']\n",
    "          val_y = y_seg_val.cuda()  \n",
    "  \n",
    "          val_outputs = np.array(val_outputs.cpu().flatten()).astype(np.int8)\n",
    "          val_outputs[val_outputs <= 0.5] = 0\n",
    "          val_outputs[val_outputs > 0.5] = 1\n",
    "          val_y = np.array(val_y.cpu().flatten()).astype(np.int8)\n",
    "    \n",
    "          intersection = np.sum(val_outputs * val_y)\n",
    "          smooth = 0.00001\n",
    "          dice = (2. * intersection + smooth) / (np.sum(val_y) + np.sum(val_outputs) + smooth)\n",
    "          print('val_dice:',dice)\n",
    "\n",
    "    if dice > best_valid_dice:\n",
    "           best_valid_dice  = dice\n",
    "           print(\"save model\")\n",
    "           torch.save(model, 'Save_Model/model-2023-5-31-1') \n",
    "           torch.save(model.state_dict(), 'Save_Model/model_parameter-2023-5-31-1.pkl')\n",
    "\n",
    "    print('epoch:{} batch_idx:{} loss:{}'\n",
    "                  .format(epoch+1, batch_idx+1, running_loss/bacth_len))\n",
    "\n",
    "    running_loss = 0.0 "
   ]
  }
 ],
 "metadata": {
  "kernelspec": {
   "display_name": "Python 3.7.2 ('tf')",
   "language": "python",
   "name": "python3"
  },
  "language_info": {
   "codemirror_mode": {
    "name": "ipython",
    "version": 3
   },
   "file_extension": ".py",
   "mimetype": "text/x-python",
   "name": "python",
   "nbconvert_exporter": "python",
   "pygments_lexer": "ipython3",
   "version": "3.7.2"
  },
  "orig_nbformat": 4,
  "vscode": {
   "interpreter": {
    "hash": "c5e3f05dc0ebefd0d8a695c10213073c91a992d6c2b23d1c7974e41814b13da9"
   }
  }
 },
 "nbformat": 4,
 "nbformat_minor": 2
}
