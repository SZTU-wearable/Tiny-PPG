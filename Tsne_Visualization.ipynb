{
 "cells": [
  {
   "cell_type": "code",
   "execution_count": 1,
   "metadata": {},
   "outputs": [],
   "source": [
    "import torch.nn as nn\n",
    "import torch\n",
    "import numpy as np\n",
    "from torchsummary import summary\n",
    "import numpy as np\n",
    "import matplotlib.pyplot as plt\n",
    "from sklearn import manifold, datasets\n",
    "import torch.nn.functional as F\n",
    "from model import Model"
   ]
  },
  {
   "cell_type": "code",
   "execution_count": null,
   "metadata": {},
   "outputs": [],
   "source": [
    "model = Model()\n",
    "model.load_state_dict(torch.load('Save_Model/model_parameter-2023-5-31-1.pkl'))\n",
    "model.cpu()"
   ]
  },
  {
   "cell_type": "code",
   "execution_count": 3,
   "metadata": {},
   "outputs": [],
   "source": [
    "test_x = np.load('data/X_test.npy')\n",
    "test_y = np.load('data/y_seg_test.npy')\n",
    "test_x = test_x.reshape((test_x.shape[0], 1, test_x.shape[1]))\n",
    "test_y = test_y.reshape((test_y.shape[0], test_y.shape[1]))\n",
    "test_x = torch.FloatTensor(test_x)\n",
    "test_y  = torch.FloatTensor(test_y)"
   ]
  },
  {
   "cell_type": "code",
   "execution_count": 4,
   "metadata": {},
   "outputs": [
    {
     "name": "stderr",
     "output_type": "stream",
     "text": [
      "/home/wucheng/.virtualenvs/tf/lib/python3.7/site-packages/torch/nn/functional.py:652: UserWarning: Named tensors and all their associated APIs are an experimental feature and subject to change. Please do not use them for anything important until they are released as stable. (Triggered internally at  /pytorch/c10/core/TensorImpl.h:1156.)\n",
      "  return torch.max_pool1d(input, kernel_size, stride, padding, dilation, ceil_mode)\n",
      "/home/wucheng/.virtualenvs/tf/lib/python3.7/site-packages/torch/nn/functional.py:1805: UserWarning: nn.functional.sigmoid is deprecated. Use torch.sigmoid instead.\n",
      "  warnings.warn(\"nn.functional.sigmoid is deprecated. Use torch.sigmoid instead.\")\n"
     ]
    }
   ],
   "source": [
    "feat = model(test_x)['embed']\n",
    "feat_ = feat.permute(0,2,1)[:10]\n",
    "X = feat_.reshape(feat_.shape[0]*feat_.shape[1],feat_.shape[2]).detach().numpy()"
   ]
  },
  {
   "cell_type": "code",
   "execution_count": 5,
   "metadata": {},
   "outputs": [],
   "source": [
    "tsne = manifold.TSNE(n_components=2, init='pca')\n",
    "X_tsne = tsne.fit_transform(X)\n",
    "y = test_y[:10].detach().numpy().flatten()"
   ]
  },
  {
   "cell_type": "code",
   "execution_count": 6,
   "metadata": {},
   "outputs": [],
   "source": [
    "import pandas as pd\n",
    "X_tsne_data = np.vstack((X_tsne.T, y)).T \n",
    "df_tsne = pd.DataFrame(X_tsne_data, columns=[\"Dim1\", \"Dim2\", \"class\"]) \n",
    "df_tsne['class'] = df_tsne['class'].replace(0,\"clean\")\n",
    "df_tsne['class'] = df_tsne['class'].replace(1,\"artifact\")\n",
    "df_tsne.head()"
   ]
  },
  {
   "cell_type": "code",
   "execution_count": null,
   "metadata": {},
   "outputs": [],
   "source": [
    "import seaborn as sns \n",
    "plt.figure(figsize=(8, 8)) \n",
    "sns.scatterplot(data=df_tsne, hue=\"class\", x=\"Dim1\", y=\"Dim2\")\n",
    "plt.xticks([])\n",
    "plt.yticks([])\n",
    "plt.xlabel(None)\n",
    "plt.ylabel(None)\n",
    "plt.legend(fontsize = 12) \n",
    "plt.show()"
   ]
  }
 ],
 "metadata": {
  "kernelspec": {
   "display_name": "Python 3.7.2 ('tf')",
   "language": "python",
   "name": "python3"
  },
  "language_info": {
   "codemirror_mode": {
    "name": "ipython",
    "version": 3
   },
   "file_extension": ".py",
   "mimetype": "text/x-python",
   "name": "python",
   "nbconvert_exporter": "python",
   "pygments_lexer": "ipython3",
   "version": "3.7.2"
  },
  "orig_nbformat": 4,
  "vscode": {
   "interpreter": {
    "hash": "c5e3f05dc0ebefd0d8a695c10213073c91a992d6c2b23d1c7974e41814b13da9"
   }
  }
 },
 "nbformat": 4,
 "nbformat_minor": 2
}
