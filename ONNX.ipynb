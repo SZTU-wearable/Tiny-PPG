{
 "cells": [
  {
   "cell_type": "code",
   "execution_count": 1,
   "metadata": {},
   "outputs": [],
   "source": [
    "import torch\n",
    "import torch.nn.functional as F\n",
    "import matplotlib.pyplot as plt\n",
    "from torch import nn\n",
    "import pandas as pd\n",
    "import numpy as np\n",
    "import os\n",
    "import matplotlib.pyplot as plt\n",
    "import onnxruntime\n",
    "from sklearn.model_selection import KFold\n",
    "from model import Model\n",
    "os.environ[\"CUDA_VISIBLE_DEVICES\"]=\"0\"\n",
    "os.environ['CUDA_LAUNCH_BLOCKING'] = '0'\n",
    "device = torch.device(\"cuda\")"
   ]
  },
  {
   "cell_type": "code",
   "execution_count": 2,
   "metadata": {},
   "outputs": [
    {
     "data": {
      "text/plain": [
       "<All keys matched successfully>"
      ]
     },
     "execution_count": 2,
     "metadata": {},
     "output_type": "execute_result"
    }
   ],
   "source": [
    "model = Model()\n",
    "model.load_state_dict(torch.load('Save_Model/model_parameter-2023-5-31-1.pkl'))"
   ]
  },
  {
   "cell_type": "code",
   "execution_count": 3,
   "metadata": {},
   "outputs": [
    {
     "name": "stderr",
     "output_type": "stream",
     "text": [
      "/home/wucheng/.virtualenvs/tf/lib/python3.7/site-packages/torch/nn/functional.py:652: UserWarning: Named tensors and all their associated APIs are an experimental feature and subject to change. Please do not use them for anything important until they are released as stable. (Triggered internally at  /pytorch/c10/core/TensorImpl.h:1156.)\n",
      "  return torch.max_pool1d(input, kernel_size, stride, padding, dilation, ceil_mode)\n",
      "/home/wucheng/.virtualenvs/tf/lib/python3.7/site-packages/torch/nn/functional.py:1805: UserWarning: nn.functional.sigmoid is deprecated. Use torch.sigmoid instead.\n",
      "  warnings.warn(\"nn.functional.sigmoid is deprecated. Use torch.sigmoid instead.\")\n"
     ]
    }
   ],
   "source": [
    "dynamic_axes_0 = { \n",
    "    'input' : {0: 'batch'}, \n",
    "    'output' : {0: 'batch'} \n",
    "} \n",
    "\n",
    "\n",
    "x = torch.randn(1,1,1920)\n",
    "x.cpu()\n",
    "model.cpu()\n",
    "model.eval()\n",
    "torch_out = torch.onnx.export(model,x,\"Save_Model/onnx_model.onnx\",input_names=['input'],output_names=['output'],opset_version=11,dynamic_axes=dynamic_axes_0)"
   ]
  },
  {
   "cell_type": "code",
   "execution_count": 4,
   "metadata": {},
   "outputs": [
    {
     "name": "stdout",
     "output_type": "stream",
     "text": [
      "The model is valid!\n"
     ]
    }
   ],
   "source": [
    "import onnx\n",
    "try:\n",
    "    # 当我们的模型不可用时，将会报出异常\n",
    "    onnx.checker.check_model(\"Save_Model/onnx_model.onnx\")\n",
    "except onnx.checker.ValidationError as e:\n",
    "    print(\"The model is invalid: %s\"%e)\n",
    "else:\n",
    "    print(\"The model is valid!\")"
   ]
  },
  {
   "cell_type": "code",
   "execution_count": 5,
   "metadata": {},
   "outputs": [],
   "source": [
    "class ONNXModel():\n",
    "    def __init__(self, onnx_path):\n",
    "        \"\"\"\n",
    "        :param onnx_path:\n",
    "        \"\"\"\n",
    "        self.onnx_session = onnxruntime.InferenceSession(onnx_path)\n",
    "        self.input_name = self.get_input_name(self.onnx_session)\n",
    "        self.output_name = self.get_output_name(self.onnx_session)\n",
    "        print(\"input_name:{}\".format(self.input_name))\n",
    "        print(\"output_name:{}\".format(self.output_name))\n",
    "\n",
    "    def get_output_name(self, onnx_session):\n",
    "    \n",
    "        output_name = []\n",
    "        for node in onnx_session.get_outputs():\n",
    "            output_name.append(node.name)\n",
    "        return output_name\n",
    "\n",
    "    def get_input_name(self, onnx_session):\n",
    "    \n",
    "        input_name = []\n",
    "        for node in onnx_session.get_inputs():\n",
    "            input_name.append(node.name)\n",
    "        return input_name\n",
    "\n",
    "    def get_input_feed(self, input_name, image_numpy):\n",
    "\n",
    "        input_feed = {}\n",
    "        for name in input_name:\n",
    "            input_feed[name] = image_numpy\n",
    "        return input_feed\n",
    "\n",
    "    def forward(self, image_numpy):\n",
    " \n",
    "        # scores, boxes = self.onnx_session.run(None, {self.input_name: image_numpy})\n",
    "        # scores, boxes = self.onnx_session.run(self.output_name, input_feed={self.input_name: iimage_numpy})\n",
    "        input_feed = self.get_input_feed(self.input_name, image_numpy)\n",
    "        scores, boxes = self.onnx_session.run(self.output_name, input_feed=input_feed)\n",
    "        return scores, boxes\n",
    "def to_numpy(tensor):\n",
    "    return tensor.detach().cpu().numpy() if tensor.requires_grad else tensor.cpu().numpy()"
   ]
  },
  {
   "cell_type": "code",
   "execution_count": 6,
   "metadata": {},
   "outputs": [],
   "source": [
    "test_x = np.load('data/X_test.npy')\n",
    "test_y = np.load('data/y_seg_test.npy')\n",
    "test_x = test_x.reshape((test_x.shape[0], 1, test_x.shape[1]))\n",
    "test_y = test_y.reshape((test_y.shape[0], test_y.shape[1]))\n",
    "test_x = torch.FloatTensor(test_x)\n",
    "test_y  = torch.FloatTensor(test_y)"
   ]
  },
  {
   "cell_type": "code",
   "execution_count": 7,
   "metadata": {},
   "outputs": [],
   "source": [
    "onnx_model_path = \"Save_Model/onnx_model.onnx\"\n",
    "sess = onnxruntime.InferenceSession(onnx_model_path,providers=['CPUExecutionProvider']) # 'CPUExecutionProvider'\n",
    "input_name = sess.get_inputs()[0].name\n",
    "output_name = [output.name for output in sess.get_outputs()]\n",
    "\n",
    "# 推理\n",
    "import datetime\n",
    "start = datetime.datetime.now()\n",
    "outputs = sess.run(output_name, {input_name:to_numpy(test_x[1:2])})\n",
    "end = datetime.datetime.now()\n",
    "print(end-start)\n",
    "print(\"onnx weights\", outputs)\n",
    "print(\"onnx prediction\", outputs[0])"
   ]
  }
 ],
 "metadata": {
  "kernelspec": {
   "display_name": "Python 3.7.2 ('tf')",
   "language": "python",
   "name": "python3"
  },
  "language_info": {
   "codemirror_mode": {
    "name": "ipython",
    "version": 3
   },
   "file_extension": ".py",
   "mimetype": "text/x-python",
   "name": "python",
   "nbconvert_exporter": "python",
   "pygments_lexer": "ipython3",
   "version": "3.7.2"
  },
  "orig_nbformat": 4,
  "vscode": {
   "interpreter": {
    "hash": "c5e3f05dc0ebefd0d8a695c10213073c91a992d6c2b23d1c7974e41814b13da9"
   }
  }
 },
 "nbformat": 4,
 "nbformat_minor": 2
}
